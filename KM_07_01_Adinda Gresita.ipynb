{
 "cells": [
  {
   "cell_type": "markdown",
   "metadata": {
    "id": "fXyErK3La9VY"
   },
   "source": [
    "## Import Library yg dibutuhkan"
   ]
  },
  {
   "cell_type": "code",
   "execution_count": 133,
   "metadata": {},
   "outputs": [],
   "source": [
    "import tensorflow as tf \n",
    "from tensorflow import keras \n",
    "from tensorflow.keras import Sequential \n",
    "from tensorflow.keras.layers import Flatten, Dense "
   ]
  },
  {
   "cell_type": "code",
   "execution_count": 134,
   "metadata": {},
   "outputs": [
    {
     "name": "stdout",
     "output_type": "stream",
     "text": [
      "2.3.0\n"
     ]
    }
   ],
   "source": [
    "print(tf.__version__) "
   ]
  },
  {
   "cell_type": "code",
   "execution_count": 135,
   "metadata": {
    "id": "o-sY0DCpa9Vi"
   },
   "outputs": [],
   "source": [
    "import pandas as pd\n",
    "import matplotlib.pyplot as plt\n",
    "import numpy as np \n",
    "import warnings \n",
    "from sklearn import metrics \n",
    "from sklearn.model_selection import train_test_split \n",
    "import seaborn as sns \n",
    "from collections import Counter \n",
    "warnings.filterwarnings(\"ignore\") \n",
    "%matplotlib inline\n",
    "#tambahkan library sesuai kebutuhan"
   ]
  },
  {
   "cell_type": "markdown",
   "metadata": {
    "id": "uLNZYwquyKKa"
   },
   "source": []
  },
  {
   "cell_type": "code",
   "execution_count": 136,
   "metadata": {
    "id": "mdVVIvqIa9Vm"
   },
   "outputs": [],
   "source": [
    "data = pd.read_csv('activity_km_07_01.csv')"
   ]
  },
  {
   "cell_type": "code",
   "execution_count": 137,
   "metadata": {
    "colab": {
     "base_uri": "https://localhost:8080/",
     "height": 419
    },
    "executionInfo": {
     "elapsed": 58,
     "status": "ok",
     "timestamp": 1633577502879,
     "user": {
      "displayName": "Hanin Nafi'ah",
      "photoUrl": "https://lh3.googleusercontent.com/a-/AOh14GhXjB7aZXWzu9ZUbuclw8xCVlFsKbaHdFFUCi4D7w=s64",
      "userId": "14455208259009939532"
     },
     "user_tz": -420
    },
    "id": "Kwh2UjUMa9Vo",
    "outputId": "d26f3a32-d938-4630-b3e8-a6a773fe7ae5"
   },
   "outputs": [
    {
     "data": {
      "text/html": [
       "<div>\n",
       "<style scoped>\n",
       "    .dataframe tbody tr th:only-of-type {\n",
       "        vertical-align: middle;\n",
       "    }\n",
       "\n",
       "    .dataframe tbody tr th {\n",
       "        vertical-align: top;\n",
       "    }\n",
       "\n",
       "    .dataframe thead th {\n",
       "        text-align: right;\n",
       "    }\n",
       "</style>\n",
       "<table border=\"1\" class=\"dataframe\">\n",
       "  <thead>\n",
       "    <tr style=\"text-align: right;\">\n",
       "      <th></th>\n",
       "      <th>PH</th>\n",
       "      <th>cahaya</th>\n",
       "      <th>intensitas air</th>\n",
       "      <th>suhu</th>\n",
       "      <th>PPM</th>\n",
       "      <th>tinggi air</th>\n",
       "      <th>aksi</th>\n",
       "    </tr>\n",
       "  </thead>\n",
       "  <tbody>\n",
       "    <tr>\n",
       "      <th>0</th>\n",
       "      <td>6.5</td>\n",
       "      <td>Ada</td>\n",
       "      <td>Tinggi</td>\n",
       "      <td>27.0</td>\n",
       "      <td>188.0</td>\n",
       "      <td>622</td>\n",
       "      <td>Hidupkan Lampu dan Pompa nutrisi TDS</td>\n",
       "    </tr>\n",
       "    <tr>\n",
       "      <th>1</th>\n",
       "      <td>5.7</td>\n",
       "      <td>Ada</td>\n",
       "      <td>Tinggi</td>\n",
       "      <td>26.9</td>\n",
       "      <td>79.0</td>\n",
       "      <td>557</td>\n",
       "      <td>Hidupkan Lampu dan Pompa nutrisi TDS</td>\n",
       "    </tr>\n",
       "    <tr>\n",
       "      <th>2</th>\n",
       "      <td>6.0</td>\n",
       "      <td>Ada</td>\n",
       "      <td>Tinggi</td>\n",
       "      <td>27.0</td>\n",
       "      <td>11.0</td>\n",
       "      <td>491</td>\n",
       "      <td>Hidupkan Lampu dan Pompa nutrisi TDS</td>\n",
       "    </tr>\n",
       "    <tr>\n",
       "      <th>3</th>\n",
       "      <td>6.5</td>\n",
       "      <td>Ada</td>\n",
       "      <td>Tinggi</td>\n",
       "      <td>27.1</td>\n",
       "      <td>345.0</td>\n",
       "      <td>12000</td>\n",
       "      <td>Tidak melakukan apa-apa</td>\n",
       "    </tr>\n",
       "    <tr>\n",
       "      <th>4</th>\n",
       "      <td>6.2</td>\n",
       "      <td>NaN</td>\n",
       "      <td>Tinggi</td>\n",
       "      <td>27.1</td>\n",
       "      <td>602.0</td>\n",
       "      <td>444</td>\n",
       "      <td>Tidak melakukan apa-apa</td>\n",
       "    </tr>\n",
       "    <tr>\n",
       "      <th>...</th>\n",
       "      <td>...</td>\n",
       "      <td>...</td>\n",
       "      <td>...</td>\n",
       "      <td>...</td>\n",
       "      <td>...</td>\n",
       "      <td>...</td>\n",
       "      <td>...</td>\n",
       "    </tr>\n",
       "    <tr>\n",
       "      <th>611</th>\n",
       "      <td>4.6</td>\n",
       "      <td>Ada</td>\n",
       "      <td>Rendah sekali</td>\n",
       "      <td>25.3</td>\n",
       "      <td>904.0</td>\n",
       "      <td>47</td>\n",
       "      <td>Hidupkan Lampu</td>\n",
       "    </tr>\n",
       "    <tr>\n",
       "      <th>612</th>\n",
       "      <td>2.1</td>\n",
       "      <td>Ada</td>\n",
       "      <td>Rendah sekali</td>\n",
       "      <td>25.0</td>\n",
       "      <td>388.0</td>\n",
       "      <td>18</td>\n",
       "      <td>Hidupkan Lampu dan Pompa nutrisi TDS</td>\n",
       "    </tr>\n",
       "    <tr>\n",
       "      <th>613</th>\n",
       "      <td>3.2</td>\n",
       "      <td>Ada</td>\n",
       "      <td>Rendah sekali</td>\n",
       "      <td>25.3</td>\n",
       "      <td>793.0</td>\n",
       "      <td>19</td>\n",
       "      <td>Hidupkan Lampu</td>\n",
       "    </tr>\n",
       "    <tr>\n",
       "      <th>614</th>\n",
       "      <td>1.4</td>\n",
       "      <td>Ada</td>\n",
       "      <td>Rendah sekali</td>\n",
       "      <td>25.4</td>\n",
       "      <td>1052.0</td>\n",
       "      <td>3</td>\n",
       "      <td>Hidupkan Lampu</td>\n",
       "    </tr>\n",
       "    <tr>\n",
       "      <th>615</th>\n",
       "      <td>5.0</td>\n",
       "      <td>Ada</td>\n",
       "      <td>Rendah sekali</td>\n",
       "      <td>25.3</td>\n",
       "      <td>977.0</td>\n",
       "      <td>19</td>\n",
       "      <td>Hidupkan Lampu</td>\n",
       "    </tr>\n",
       "  </tbody>\n",
       "</table>\n",
       "<p>616 rows × 7 columns</p>\n",
       "</div>"
      ],
      "text/plain": [
       "      PH cahaya intensitas air  suhu     PPM  tinggi air  \\\n",
       "0    6.5    Ada         Tinggi  27.0   188.0         622   \n",
       "1    5.7    Ada         Tinggi  26.9    79.0         557   \n",
       "2    6.0    Ada         Tinggi  27.0    11.0         491   \n",
       "3    6.5    Ada         Tinggi  27.1   345.0       12000   \n",
       "4    6.2    NaN         Tinggi  27.1   602.0         444   \n",
       "..   ...    ...            ...   ...     ...         ...   \n",
       "611  4.6    Ada  Rendah sekali  25.3   904.0          47   \n",
       "612  2.1    Ada  Rendah sekali  25.0   388.0          18   \n",
       "613  3.2    Ada  Rendah sekali  25.3   793.0          19   \n",
       "614  1.4    Ada  Rendah sekali  25.4  1052.0           3   \n",
       "615  5.0    Ada  Rendah sekali  25.3   977.0          19   \n",
       "\n",
       "                                     aksi  \n",
       "0    Hidupkan Lampu dan Pompa nutrisi TDS  \n",
       "1    Hidupkan Lampu dan Pompa nutrisi TDS  \n",
       "2    Hidupkan Lampu dan Pompa nutrisi TDS  \n",
       "3                 Tidak melakukan apa-apa  \n",
       "4                 Tidak melakukan apa-apa  \n",
       "..                                    ...  \n",
       "611                        Hidupkan Lampu  \n",
       "612  Hidupkan Lampu dan Pompa nutrisi TDS  \n",
       "613                        Hidupkan Lampu  \n",
       "614                        Hidupkan Lampu  \n",
       "615                        Hidupkan Lampu  \n",
       "\n",
       "[616 rows x 7 columns]"
      ]
     },
     "execution_count": 137,
     "metadata": {},
     "output_type": "execute_result"
    }
   ],
   "source": [
    "data"
   ]
  },
  {
   "cell_type": "markdown",
   "metadata": {
    "id": "WZ3GE8pya9Vr"
   },
   "source": [
    "## 1. Mengganti nama kolom yang menggunakan spasi"
   ]
  },
  {
   "cell_type": "code",
   "execution_count": 138,
   "metadata": {
    "id": "v0csWHwRa9Vs"
   },
   "outputs": [
    {
     "data": {
      "text/html": [
       "<div>\n",
       "<style scoped>\n",
       "    .dataframe tbody tr th:only-of-type {\n",
       "        vertical-align: middle;\n",
       "    }\n",
       "\n",
       "    .dataframe tbody tr th {\n",
       "        vertical-align: top;\n",
       "    }\n",
       "\n",
       "    .dataframe thead th {\n",
       "        text-align: right;\n",
       "    }\n",
       "</style>\n",
       "<table border=\"1\" class=\"dataframe\">\n",
       "  <thead>\n",
       "    <tr style=\"text-align: right;\">\n",
       "      <th></th>\n",
       "      <th>PH</th>\n",
       "      <th>Cahaya</th>\n",
       "      <th>IntensitasAir</th>\n",
       "      <th>Suhu</th>\n",
       "      <th>PPM</th>\n",
       "      <th>TinggiAir</th>\n",
       "      <th>aksi</th>\n",
       "    </tr>\n",
       "  </thead>\n",
       "  <tbody>\n",
       "    <tr>\n",
       "      <th>0</th>\n",
       "      <td>6.5</td>\n",
       "      <td>Ada</td>\n",
       "      <td>Tinggi</td>\n",
       "      <td>27.0</td>\n",
       "      <td>188.0</td>\n",
       "      <td>622</td>\n",
       "      <td>Hidupkan Lampu dan Pompa nutrisi TDS</td>\n",
       "    </tr>\n",
       "    <tr>\n",
       "      <th>1</th>\n",
       "      <td>5.7</td>\n",
       "      <td>Ada</td>\n",
       "      <td>Tinggi</td>\n",
       "      <td>26.9</td>\n",
       "      <td>79.0</td>\n",
       "      <td>557</td>\n",
       "      <td>Hidupkan Lampu dan Pompa nutrisi TDS</td>\n",
       "    </tr>\n",
       "    <tr>\n",
       "      <th>2</th>\n",
       "      <td>6.0</td>\n",
       "      <td>Ada</td>\n",
       "      <td>Tinggi</td>\n",
       "      <td>27.0</td>\n",
       "      <td>11.0</td>\n",
       "      <td>491</td>\n",
       "      <td>Hidupkan Lampu dan Pompa nutrisi TDS</td>\n",
       "    </tr>\n",
       "    <tr>\n",
       "      <th>3</th>\n",
       "      <td>6.5</td>\n",
       "      <td>Ada</td>\n",
       "      <td>Tinggi</td>\n",
       "      <td>27.1</td>\n",
       "      <td>345.0</td>\n",
       "      <td>12000</td>\n",
       "      <td>Tidak melakukan apa-apa</td>\n",
       "    </tr>\n",
       "    <tr>\n",
       "      <th>4</th>\n",
       "      <td>6.2</td>\n",
       "      <td>NaN</td>\n",
       "      <td>Tinggi</td>\n",
       "      <td>27.1</td>\n",
       "      <td>602.0</td>\n",
       "      <td>444</td>\n",
       "      <td>Tidak melakukan apa-apa</td>\n",
       "    </tr>\n",
       "    <tr>\n",
       "      <th>...</th>\n",
       "      <td>...</td>\n",
       "      <td>...</td>\n",
       "      <td>...</td>\n",
       "      <td>...</td>\n",
       "      <td>...</td>\n",
       "      <td>...</td>\n",
       "      <td>...</td>\n",
       "    </tr>\n",
       "    <tr>\n",
       "      <th>611</th>\n",
       "      <td>4.6</td>\n",
       "      <td>Ada</td>\n",
       "      <td>Rendah sekali</td>\n",
       "      <td>25.3</td>\n",
       "      <td>904.0</td>\n",
       "      <td>47</td>\n",
       "      <td>Hidupkan Lampu</td>\n",
       "    </tr>\n",
       "    <tr>\n",
       "      <th>612</th>\n",
       "      <td>2.1</td>\n",
       "      <td>Ada</td>\n",
       "      <td>Rendah sekali</td>\n",
       "      <td>25.0</td>\n",
       "      <td>388.0</td>\n",
       "      <td>18</td>\n",
       "      <td>Hidupkan Lampu dan Pompa nutrisi TDS</td>\n",
       "    </tr>\n",
       "    <tr>\n",
       "      <th>613</th>\n",
       "      <td>3.2</td>\n",
       "      <td>Ada</td>\n",
       "      <td>Rendah sekali</td>\n",
       "      <td>25.3</td>\n",
       "      <td>793.0</td>\n",
       "      <td>19</td>\n",
       "      <td>Hidupkan Lampu</td>\n",
       "    </tr>\n",
       "    <tr>\n",
       "      <th>614</th>\n",
       "      <td>1.4</td>\n",
       "      <td>Ada</td>\n",
       "      <td>Rendah sekali</td>\n",
       "      <td>25.4</td>\n",
       "      <td>1052.0</td>\n",
       "      <td>3</td>\n",
       "      <td>Hidupkan Lampu</td>\n",
       "    </tr>\n",
       "    <tr>\n",
       "      <th>615</th>\n",
       "      <td>5.0</td>\n",
       "      <td>Ada</td>\n",
       "      <td>Rendah sekali</td>\n",
       "      <td>25.3</td>\n",
       "      <td>977.0</td>\n",
       "      <td>19</td>\n",
       "      <td>Hidupkan Lampu</td>\n",
       "    </tr>\n",
       "  </tbody>\n",
       "</table>\n",
       "<p>616 rows × 7 columns</p>\n",
       "</div>"
      ],
      "text/plain": [
       "      PH Cahaya  IntensitasAir  Suhu     PPM  TinggiAir  \\\n",
       "0    6.5    Ada         Tinggi  27.0   188.0        622   \n",
       "1    5.7    Ada         Tinggi  26.9    79.0        557   \n",
       "2    6.0    Ada         Tinggi  27.0    11.0        491   \n",
       "3    6.5    Ada         Tinggi  27.1   345.0      12000   \n",
       "4    6.2    NaN         Tinggi  27.1   602.0        444   \n",
       "..   ...    ...            ...   ...     ...        ...   \n",
       "611  4.6    Ada  Rendah sekali  25.3   904.0         47   \n",
       "612  2.1    Ada  Rendah sekali  25.0   388.0         18   \n",
       "613  3.2    Ada  Rendah sekali  25.3   793.0         19   \n",
       "614  1.4    Ada  Rendah sekali  25.4  1052.0          3   \n",
       "615  5.0    Ada  Rendah sekali  25.3   977.0         19   \n",
       "\n",
       "                                     aksi  \n",
       "0    Hidupkan Lampu dan Pompa nutrisi TDS  \n",
       "1    Hidupkan Lampu dan Pompa nutrisi TDS  \n",
       "2    Hidupkan Lampu dan Pompa nutrisi TDS  \n",
       "3                 Tidak melakukan apa-apa  \n",
       "4                 Tidak melakukan apa-apa  \n",
       "..                                    ...  \n",
       "611                        Hidupkan Lampu  \n",
       "612  Hidupkan Lampu dan Pompa nutrisi TDS  \n",
       "613                        Hidupkan Lampu  \n",
       "614                        Hidupkan Lampu  \n",
       "615                        Hidupkan Lampu  \n",
       "\n",
       "[616 rows x 7 columns]"
      ]
     },
     "execution_count": 138,
     "metadata": {},
     "output_type": "execute_result"
    }
   ],
   "source": [
    "data = data.rename(columns={'PH':'PH', 'cahaya':'Cahaya', 'intensitas air':'IntensitasAir', 'suhu':'Suhu', 'PPM':'PPM', 'tinggi air':'TinggiAir'}) \n",
    "data "
   ]
  },
  {
   "cell_type": "code",
   "execution_count": 139,
   "metadata": {},
   "outputs": [
    {
     "data": {
      "text/html": [
       "<div>\n",
       "<style scoped>\n",
       "    .dataframe tbody tr th:only-of-type {\n",
       "        vertical-align: middle;\n",
       "    }\n",
       "\n",
       "    .dataframe tbody tr th {\n",
       "        vertical-align: top;\n",
       "    }\n",
       "\n",
       "    .dataframe thead th {\n",
       "        text-align: right;\n",
       "    }\n",
       "</style>\n",
       "<table border=\"1\" class=\"dataframe\">\n",
       "  <thead>\n",
       "    <tr style=\"text-align: right;\">\n",
       "      <th></th>\n",
       "      <th>PH</th>\n",
       "      <th>Suhu</th>\n",
       "      <th>PPM</th>\n",
       "      <th>TinggiAir</th>\n",
       "    </tr>\n",
       "  </thead>\n",
       "  <tbody>\n",
       "    <tr>\n",
       "      <th>count</th>\n",
       "      <td>600.000000</td>\n",
       "      <td>589.000000</td>\n",
       "      <td>611.000000</td>\n",
       "      <td>616.000000</td>\n",
       "    </tr>\n",
       "    <tr>\n",
       "      <th>mean</th>\n",
       "      <td>6.655167</td>\n",
       "      <td>29.364007</td>\n",
       "      <td>1032.836334</td>\n",
       "      <td>288.173701</td>\n",
       "    </tr>\n",
       "    <tr>\n",
       "      <th>std</th>\n",
       "      <td>3.043234</td>\n",
       "      <td>14.937524</td>\n",
       "      <td>632.614766</td>\n",
       "      <td>622.457710</td>\n",
       "    </tr>\n",
       "    <tr>\n",
       "      <th>min</th>\n",
       "      <td>0.000000</td>\n",
       "      <td>-300.000000</td>\n",
       "      <td>1.000000</td>\n",
       "      <td>0.000000</td>\n",
       "    </tr>\n",
       "    <tr>\n",
       "      <th>25%</th>\n",
       "      <td>5.500000</td>\n",
       "      <td>27.100000</td>\n",
       "      <td>487.500000</td>\n",
       "      <td>50.000000</td>\n",
       "    </tr>\n",
       "    <tr>\n",
       "      <th>50%</th>\n",
       "      <td>6.500000</td>\n",
       "      <td>29.900000</td>\n",
       "      <td>991.000000</td>\n",
       "      <td>230.000000</td>\n",
       "    </tr>\n",
       "    <tr>\n",
       "      <th>75%</th>\n",
       "      <td>7.700000</td>\n",
       "      <td>33.000000</td>\n",
       "      <td>1603.500000</td>\n",
       "      <td>429.500000</td>\n",
       "    </tr>\n",
       "    <tr>\n",
       "      <th>max</th>\n",
       "      <td>14.000000</td>\n",
       "      <td>40.600000</td>\n",
       "      <td>2149.000000</td>\n",
       "      <td>12000.000000</td>\n",
       "    </tr>\n",
       "  </tbody>\n",
       "</table>\n",
       "</div>"
      ],
      "text/plain": [
       "               PH        Suhu          PPM     TinggiAir\n",
       "count  600.000000  589.000000   611.000000    616.000000\n",
       "mean     6.655167   29.364007  1032.836334    288.173701\n",
       "std      3.043234   14.937524   632.614766    622.457710\n",
       "min      0.000000 -300.000000     1.000000      0.000000\n",
       "25%      5.500000   27.100000   487.500000     50.000000\n",
       "50%      6.500000   29.900000   991.000000    230.000000\n",
       "75%      7.700000   33.000000  1603.500000    429.500000\n",
       "max     14.000000   40.600000  2149.000000  12000.000000"
      ]
     },
     "execution_count": 139,
     "metadata": {},
     "output_type": "execute_result"
    }
   ],
   "source": [
    "data.describe() "
   ]
  },
  {
   "cell_type": "code",
   "execution_count": 140,
   "metadata": {},
   "outputs": [
    {
     "data": {
      "text/html": [
       "<div>\n",
       "<style scoped>\n",
       "    .dataframe tbody tr th:only-of-type {\n",
       "        vertical-align: middle;\n",
       "    }\n",
       "\n",
       "    .dataframe tbody tr th {\n",
       "        vertical-align: top;\n",
       "    }\n",
       "\n",
       "    .dataframe thead th {\n",
       "        text-align: right;\n",
       "    }\n",
       "</style>\n",
       "<table border=\"1\" class=\"dataframe\">\n",
       "  <thead>\n",
       "    <tr style=\"text-align: right;\">\n",
       "      <th></th>\n",
       "      <th>PH</th>\n",
       "      <th>Cahaya</th>\n",
       "      <th>IntensitasAir</th>\n",
       "      <th>Suhu</th>\n",
       "      <th>PPM</th>\n",
       "      <th>aksi</th>\n",
       "    </tr>\n",
       "  </thead>\n",
       "  <tbody>\n",
       "    <tr>\n",
       "      <th>0</th>\n",
       "      <td>6.5</td>\n",
       "      <td>Ada</td>\n",
       "      <td>Tinggi</td>\n",
       "      <td>27.0</td>\n",
       "      <td>188.0</td>\n",
       "      <td>Hidupkan Lampu dan Pompa nutrisi TDS</td>\n",
       "    </tr>\n",
       "    <tr>\n",
       "      <th>1</th>\n",
       "      <td>5.7</td>\n",
       "      <td>Ada</td>\n",
       "      <td>Tinggi</td>\n",
       "      <td>26.9</td>\n",
       "      <td>79.0</td>\n",
       "      <td>Hidupkan Lampu dan Pompa nutrisi TDS</td>\n",
       "    </tr>\n",
       "    <tr>\n",
       "      <th>2</th>\n",
       "      <td>6.0</td>\n",
       "      <td>Ada</td>\n",
       "      <td>Tinggi</td>\n",
       "      <td>27.0</td>\n",
       "      <td>11.0</td>\n",
       "      <td>Hidupkan Lampu dan Pompa nutrisi TDS</td>\n",
       "    </tr>\n",
       "    <tr>\n",
       "      <th>3</th>\n",
       "      <td>6.5</td>\n",
       "      <td>Ada</td>\n",
       "      <td>Tinggi</td>\n",
       "      <td>27.1</td>\n",
       "      <td>345.0</td>\n",
       "      <td>Tidak melakukan apa-apa</td>\n",
       "    </tr>\n",
       "    <tr>\n",
       "      <th>4</th>\n",
       "      <td>6.2</td>\n",
       "      <td>NaN</td>\n",
       "      <td>Tinggi</td>\n",
       "      <td>27.1</td>\n",
       "      <td>602.0</td>\n",
       "      <td>Tidak melakukan apa-apa</td>\n",
       "    </tr>\n",
       "  </tbody>\n",
       "</table>\n",
       "</div>"
      ],
      "text/plain": [
       "    PH Cahaya IntensitasAir  Suhu    PPM                                  aksi\n",
       "0  6.5    Ada        Tinggi  27.0  188.0  Hidupkan Lampu dan Pompa nutrisi TDS\n",
       "1  5.7    Ada        Tinggi  26.9   79.0  Hidupkan Lampu dan Pompa nutrisi TDS\n",
       "2  6.0    Ada        Tinggi  27.0   11.0  Hidupkan Lampu dan Pompa nutrisi TDS\n",
       "3  6.5    Ada        Tinggi  27.1  345.0               Tidak melakukan apa-apa\n",
       "4  6.2    NaN        Tinggi  27.1  602.0               Tidak melakukan apa-apa"
      ]
     },
     "execution_count": 140,
     "metadata": {},
     "output_type": "execute_result"
    }
   ],
   "source": [
    "del data[\"TinggiAir\"] \n",
    "data.head() "
   ]
  },
  {
   "cell_type": "code",
   "execution_count": 141,
   "metadata": {},
   "outputs": [
    {
     "data": {
      "text/html": [
       "<div>\n",
       "<style scoped>\n",
       "    .dataframe tbody tr th:only-of-type {\n",
       "        vertical-align: middle;\n",
       "    }\n",
       "\n",
       "    .dataframe tbody tr th {\n",
       "        vertical-align: top;\n",
       "    }\n",
       "\n",
       "    .dataframe thead th {\n",
       "        text-align: right;\n",
       "    }\n",
       "</style>\n",
       "<table border=\"1\" class=\"dataframe\">\n",
       "  <thead>\n",
       "    <tr style=\"text-align: right;\">\n",
       "      <th></th>\n",
       "      <th>total_missing</th>\n",
       "      <th>perc_missing</th>\n",
       "    </tr>\n",
       "  </thead>\n",
       "  <tbody>\n",
       "    <tr>\n",
       "      <th>PH</th>\n",
       "      <td>16</td>\n",
       "      <td>1.795735</td>\n",
       "    </tr>\n",
       "    <tr>\n",
       "      <th>Cahaya</th>\n",
       "      <td>26</td>\n",
       "      <td>2.918070</td>\n",
       "    </tr>\n",
       "    <tr>\n",
       "      <th>IntensitasAir</th>\n",
       "      <td>0</td>\n",
       "      <td>0.000000</td>\n",
       "    </tr>\n",
       "    <tr>\n",
       "      <th>Suhu</th>\n",
       "      <td>27</td>\n",
       "      <td>3.030303</td>\n",
       "    </tr>\n",
       "    <tr>\n",
       "      <th>PPM</th>\n",
       "      <td>5</td>\n",
       "      <td>0.561167</td>\n",
       "    </tr>\n",
       "    <tr>\n",
       "      <th>aksi</th>\n",
       "      <td>0</td>\n",
       "      <td>0.000000</td>\n",
       "    </tr>\n",
       "  </tbody>\n",
       "</table>\n",
       "</div>"
      ],
      "text/plain": [
       "               total_missing  perc_missing\n",
       "PH                        16      1.795735\n",
       "Cahaya                    26      2.918070\n",
       "IntensitasAir              0      0.000000\n",
       "Suhu                      27      3.030303\n",
       "PPM                        5      0.561167\n",
       "aksi                       0      0.000000"
      ]
     },
     "execution_count": 141,
     "metadata": {},
     "output_type": "execute_result"
    }
   ],
   "source": [
    "#Melihat presentase missing value tiap kolom \n",
    "missing_data = pd.DataFrame({'total_missing': data.isnull().sum(), 'perc_missing': (data.isnull().sum()/891)*100}) \n",
    "missing_data "
   ]
  },
  {
   "cell_type": "markdown",
   "metadata": {
    "id": "vCYDhpdfa9Vt"
   },
   "source": [
    "## 2. Mengganti data kategorikal menjadi bentuk numerical (Clue : Labelencoder tidak bekerja ketika ada missing value, gunakan metode lain)"
   ]
  },
  {
   "cell_type": "code",
   "execution_count": 142,
   "metadata": {
    "id": "HNAJfwlCa9Vu"
   },
   "outputs": [
    {
     "data": {
      "text/html": [
       "<div>\n",
       "<style scoped>\n",
       "    .dataframe tbody tr th:only-of-type {\n",
       "        vertical-align: middle;\n",
       "    }\n",
       "\n",
       "    .dataframe tbody tr th {\n",
       "        vertical-align: top;\n",
       "    }\n",
       "\n",
       "    .dataframe thead th {\n",
       "        text-align: right;\n",
       "    }\n",
       "</style>\n",
       "<table border=\"1\" class=\"dataframe\">\n",
       "  <thead>\n",
       "    <tr style=\"text-align: right;\">\n",
       "      <th></th>\n",
       "      <th>PH</th>\n",
       "      <th>Cahaya</th>\n",
       "      <th>IntensitasAir</th>\n",
       "      <th>Suhu</th>\n",
       "      <th>PPM</th>\n",
       "      <th>aksi</th>\n",
       "    </tr>\n",
       "  </thead>\n",
       "  <tbody>\n",
       "    <tr>\n",
       "      <th>0</th>\n",
       "      <td>6.5</td>\n",
       "      <td>1.0</td>\n",
       "      <td>Tinggi</td>\n",
       "      <td>27.0</td>\n",
       "      <td>188.0</td>\n",
       "      <td>Hidupkan Lampu dan Pompa nutrisi TDS</td>\n",
       "    </tr>\n",
       "    <tr>\n",
       "      <th>1</th>\n",
       "      <td>5.7</td>\n",
       "      <td>1.0</td>\n",
       "      <td>Tinggi</td>\n",
       "      <td>26.9</td>\n",
       "      <td>79.0</td>\n",
       "      <td>Hidupkan Lampu dan Pompa nutrisi TDS</td>\n",
       "    </tr>\n",
       "    <tr>\n",
       "      <th>2</th>\n",
       "      <td>6.0</td>\n",
       "      <td>1.0</td>\n",
       "      <td>Tinggi</td>\n",
       "      <td>27.0</td>\n",
       "      <td>11.0</td>\n",
       "      <td>Hidupkan Lampu dan Pompa nutrisi TDS</td>\n",
       "    </tr>\n",
       "    <tr>\n",
       "      <th>3</th>\n",
       "      <td>6.5</td>\n",
       "      <td>1.0</td>\n",
       "      <td>Tinggi</td>\n",
       "      <td>27.1</td>\n",
       "      <td>345.0</td>\n",
       "      <td>Tidak melakukan apa-apa</td>\n",
       "    </tr>\n",
       "    <tr>\n",
       "      <th>4</th>\n",
       "      <td>6.2</td>\n",
       "      <td>NaN</td>\n",
       "      <td>Tinggi</td>\n",
       "      <td>27.1</td>\n",
       "      <td>602.0</td>\n",
       "      <td>Tidak melakukan apa-apa</td>\n",
       "    </tr>\n",
       "  </tbody>\n",
       "</table>\n",
       "</div>"
      ],
      "text/plain": [
       "    PH  Cahaya IntensitasAir  Suhu    PPM  \\\n",
       "0  6.5     1.0        Tinggi  27.0  188.0   \n",
       "1  5.7     1.0        Tinggi  26.9   79.0   \n",
       "2  6.0     1.0        Tinggi  27.0   11.0   \n",
       "3  6.5     1.0        Tinggi  27.1  345.0   \n",
       "4  6.2     NaN        Tinggi  27.1  602.0   \n",
       "\n",
       "                                   aksi  \n",
       "0  Hidupkan Lampu dan Pompa nutrisi TDS  \n",
       "1  Hidupkan Lampu dan Pompa nutrisi TDS  \n",
       "2  Hidupkan Lampu dan Pompa nutrisi TDS  \n",
       "3               Tidak melakukan apa-apa  \n",
       "4               Tidak melakukan apa-apa  "
      ]
     },
     "execution_count": 142,
     "metadata": {},
     "output_type": "execute_result"
    }
   ],
   "source": [
    "def getNumber(str):\n",
    "    if str==\"Ada\":\n",
    "        return 1\n",
    "    elif str==\"Tidak ada\":\n",
    "        return 0\n",
    "    else: \n",
    "        return str \n",
    "    \n",
    "data[\"Cahaya\"]=data[\"Cahaya\"].apply(getNumber) \n",
    "\n",
    "data.head() "
   ]
  },
  {
   "cell_type": "code",
   "execution_count": 143,
   "metadata": {},
   "outputs": [
    {
     "data": {
      "text/html": [
       "<div>\n",
       "<style scoped>\n",
       "    .dataframe tbody tr th:only-of-type {\n",
       "        vertical-align: middle;\n",
       "    }\n",
       "\n",
       "    .dataframe tbody tr th {\n",
       "        vertical-align: top;\n",
       "    }\n",
       "\n",
       "    .dataframe thead th {\n",
       "        text-align: right;\n",
       "    }\n",
       "</style>\n",
       "<table border=\"1\" class=\"dataframe\">\n",
       "  <thead>\n",
       "    <tr style=\"text-align: right;\">\n",
       "      <th></th>\n",
       "      <th>PH</th>\n",
       "      <th>Cahaya</th>\n",
       "      <th>IntensitasAir</th>\n",
       "      <th>Suhu</th>\n",
       "      <th>PPM</th>\n",
       "      <th>aksi</th>\n",
       "    </tr>\n",
       "  </thead>\n",
       "  <tbody>\n",
       "    <tr>\n",
       "      <th>0</th>\n",
       "      <td>6.5</td>\n",
       "      <td>1.0</td>\n",
       "      <td>1</td>\n",
       "      <td>27.0</td>\n",
       "      <td>188.0</td>\n",
       "      <td>Hidupkan Lampu dan Pompa nutrisi TDS</td>\n",
       "    </tr>\n",
       "    <tr>\n",
       "      <th>1</th>\n",
       "      <td>5.7</td>\n",
       "      <td>1.0</td>\n",
       "      <td>1</td>\n",
       "      <td>26.9</td>\n",
       "      <td>79.0</td>\n",
       "      <td>Hidupkan Lampu dan Pompa nutrisi TDS</td>\n",
       "    </tr>\n",
       "    <tr>\n",
       "      <th>2</th>\n",
       "      <td>6.0</td>\n",
       "      <td>1.0</td>\n",
       "      <td>1</td>\n",
       "      <td>27.0</td>\n",
       "      <td>11.0</td>\n",
       "      <td>Hidupkan Lampu dan Pompa nutrisi TDS</td>\n",
       "    </tr>\n",
       "    <tr>\n",
       "      <th>3</th>\n",
       "      <td>6.5</td>\n",
       "      <td>1.0</td>\n",
       "      <td>1</td>\n",
       "      <td>27.1</td>\n",
       "      <td>345.0</td>\n",
       "      <td>Tidak melakukan apa-apa</td>\n",
       "    </tr>\n",
       "    <tr>\n",
       "      <th>4</th>\n",
       "      <td>6.2</td>\n",
       "      <td>NaN</td>\n",
       "      <td>1</td>\n",
       "      <td>27.1</td>\n",
       "      <td>602.0</td>\n",
       "      <td>Tidak melakukan apa-apa</td>\n",
       "    </tr>\n",
       "  </tbody>\n",
       "</table>\n",
       "</div>"
      ],
      "text/plain": [
       "    PH  Cahaya  IntensitasAir  Suhu    PPM  \\\n",
       "0  6.5     1.0              1  27.0  188.0   \n",
       "1  5.7     1.0              1  26.9   79.0   \n",
       "2  6.0     1.0              1  27.0   11.0   \n",
       "3  6.5     1.0              1  27.1  345.0   \n",
       "4  6.2     NaN              1  27.1  602.0   \n",
       "\n",
       "                                   aksi  \n",
       "0  Hidupkan Lampu dan Pompa nutrisi TDS  \n",
       "1  Hidupkan Lampu dan Pompa nutrisi TDS  \n",
       "2  Hidupkan Lampu dan Pompa nutrisi TDS  \n",
       "3               Tidak melakukan apa-apa  \n",
       "4               Tidak melakukan apa-apa  "
      ]
     },
     "execution_count": 143,
     "metadata": {},
     "output_type": "execute_result"
    }
   ],
   "source": [
    "def getEmb(str):\n",
    "    if str==\"Tinggi\":\n",
    "        return 1\n",
    "    elif str==\"Rendah sekali\":\n",
    "        return 2\n",
    "    else:\n",
    "        return 3 \n",
    "\n",
    "data[\"IntensitasAir\"]=data[\"IntensitasAir\"].apply(getEmb) \n",
    "data.head() "
   ]
  },
  {
   "cell_type": "code",
   "execution_count": 144,
   "metadata": {},
   "outputs": [
    {
     "data": {
      "text/html": [
       "<div>\n",
       "<style scoped>\n",
       "    .dataframe tbody tr th:only-of-type {\n",
       "        vertical-align: middle;\n",
       "    }\n",
       "\n",
       "    .dataframe tbody tr th {\n",
       "        vertical-align: top;\n",
       "    }\n",
       "\n",
       "    .dataframe thead th {\n",
       "        text-align: right;\n",
       "    }\n",
       "</style>\n",
       "<table border=\"1\" class=\"dataframe\">\n",
       "  <thead>\n",
       "    <tr style=\"text-align: right;\">\n",
       "      <th></th>\n",
       "      <th>PH</th>\n",
       "      <th>Cahaya</th>\n",
       "      <th>IntensitasAir</th>\n",
       "      <th>Suhu</th>\n",
       "      <th>PPM</th>\n",
       "      <th>aksi</th>\n",
       "    </tr>\n",
       "  </thead>\n",
       "  <tbody>\n",
       "    <tr>\n",
       "      <th>0</th>\n",
       "      <td>6.5</td>\n",
       "      <td>1.0</td>\n",
       "      <td>1</td>\n",
       "      <td>27.0</td>\n",
       "      <td>188.0</td>\n",
       "      <td>1</td>\n",
       "    </tr>\n",
       "    <tr>\n",
       "      <th>1</th>\n",
       "      <td>5.7</td>\n",
       "      <td>1.0</td>\n",
       "      <td>1</td>\n",
       "      <td>26.9</td>\n",
       "      <td>79.0</td>\n",
       "      <td>1</td>\n",
       "    </tr>\n",
       "    <tr>\n",
       "      <th>2</th>\n",
       "      <td>6.0</td>\n",
       "      <td>1.0</td>\n",
       "      <td>1</td>\n",
       "      <td>27.0</td>\n",
       "      <td>11.0</td>\n",
       "      <td>1</td>\n",
       "    </tr>\n",
       "    <tr>\n",
       "      <th>3</th>\n",
       "      <td>6.5</td>\n",
       "      <td>1.0</td>\n",
       "      <td>1</td>\n",
       "      <td>27.1</td>\n",
       "      <td>345.0</td>\n",
       "      <td>2</td>\n",
       "    </tr>\n",
       "    <tr>\n",
       "      <th>4</th>\n",
       "      <td>6.2</td>\n",
       "      <td>NaN</td>\n",
       "      <td>1</td>\n",
       "      <td>27.1</td>\n",
       "      <td>602.0</td>\n",
       "      <td>2</td>\n",
       "    </tr>\n",
       "  </tbody>\n",
       "</table>\n",
       "</div>"
      ],
      "text/plain": [
       "    PH  Cahaya  IntensitasAir  Suhu    PPM  aksi\n",
       "0  6.5     1.0              1  27.0  188.0     1\n",
       "1  5.7     1.0              1  26.9   79.0     1\n",
       "2  6.0     1.0              1  27.0   11.0     1\n",
       "3  6.5     1.0              1  27.1  345.0     2\n",
       "4  6.2     NaN              1  27.1  602.0     2"
      ]
     },
     "execution_count": 144,
     "metadata": {},
     "output_type": "execute_result"
    }
   ],
   "source": [
    "def getEmb(str):\n",
    "    if str==\"Hidupkan Lampu dan Pompa nutrisi TDS\":\n",
    "        return 1\n",
    "    elif str==\"Tidak melakukan apa-apa\":\n",
    "        return 2\n",
    "    else:\n",
    "        return 3 \n",
    "\n",
    "data[\"aksi\"]=data[\"aksi\"].apply(getEmb) \n",
    "data.head() "
   ]
  },
  {
   "cell_type": "code",
   "execution_count": 145,
   "metadata": {},
   "outputs": [
    {
     "data": {
      "text/html": [
       "<div>\n",
       "<style scoped>\n",
       "    .dataframe tbody tr th:only-of-type {\n",
       "        vertical-align: middle;\n",
       "    }\n",
       "\n",
       "    .dataframe tbody tr th {\n",
       "        vertical-align: top;\n",
       "    }\n",
       "\n",
       "    .dataframe thead th {\n",
       "        text-align: right;\n",
       "    }\n",
       "</style>\n",
       "<table border=\"1\" class=\"dataframe\">\n",
       "  <thead>\n",
       "    <tr style=\"text-align: right;\">\n",
       "      <th></th>\n",
       "      <th>total_missing</th>\n",
       "      <th>perc_missing</th>\n",
       "    </tr>\n",
       "  </thead>\n",
       "  <tbody>\n",
       "    <tr>\n",
       "      <th>PH</th>\n",
       "      <td>16</td>\n",
       "      <td>1.795735</td>\n",
       "    </tr>\n",
       "    <tr>\n",
       "      <th>Cahaya</th>\n",
       "      <td>26</td>\n",
       "      <td>2.918070</td>\n",
       "    </tr>\n",
       "    <tr>\n",
       "      <th>IntensitasAir</th>\n",
       "      <td>0</td>\n",
       "      <td>0.000000</td>\n",
       "    </tr>\n",
       "    <tr>\n",
       "      <th>Suhu</th>\n",
       "      <td>27</td>\n",
       "      <td>3.030303</td>\n",
       "    </tr>\n",
       "    <tr>\n",
       "      <th>PPM</th>\n",
       "      <td>5</td>\n",
       "      <td>0.561167</td>\n",
       "    </tr>\n",
       "    <tr>\n",
       "      <th>aksi</th>\n",
       "      <td>0</td>\n",
       "      <td>0.000000</td>\n",
       "    </tr>\n",
       "  </tbody>\n",
       "</table>\n",
       "</div>"
      ],
      "text/plain": [
       "               total_missing  perc_missing\n",
       "PH                        16      1.795735\n",
       "Cahaya                    26      2.918070\n",
       "IntensitasAir              0      0.000000\n",
       "Suhu                      27      3.030303\n",
       "PPM                        5      0.561167\n",
       "aksi                       0      0.000000"
      ]
     },
     "execution_count": 145,
     "metadata": {},
     "output_type": "execute_result"
    }
   ],
   "source": [
    "#Melihat presentase missing value tiap kolom \n",
    "missing_data = pd.DataFrame({'total_missing': data.isnull().sum(), 'perc_missing': (data.isnull().sum()/891)*100})\n",
    "missing_data"
   ]
  },
  {
   "cell_type": "markdown",
   "metadata": {
    "id": "W5Ka60uYa9Vv"
   },
   "source": [
    "## 3. Handle Missing Value"
   ]
  },
  {
   "cell_type": "code",
   "execution_count": 146,
   "metadata": {
    "id": "z6BbPoqPa9Vv"
   },
   "outputs": [
    {
     "data": {
      "text/plain": [
       "['PH', 'Cahaya', 'Suhu', 'PPM']"
      ]
     },
     "execution_count": 146,
     "metadata": {},
     "output_type": "execute_result"
    }
   ],
   "source": [
    "#Mengelompokkan missing value\n",
    "column_missing = [\"PH\", \"Cahaya\", \"Suhu\", \"PPM\"] \n",
    "column_missing "
   ]
  },
  {
   "cell_type": "code",
   "execution_count": 147,
   "metadata": {},
   "outputs": [
    {
     "data": {
      "text/plain": [
       "PH               0\n",
       "Cahaya           0\n",
       "IntensitasAir    0\n",
       "Suhu             0\n",
       "PPM              0\n",
       "aksi             0\n",
       "dtype: int64"
      ]
     },
     "execution_count": 147,
     "metadata": {},
     "output_type": "execute_result"
    }
   ],
   "source": [
    "#Solve missing value \n",
    "for col in column_missing:\n",
    "    data[col].replace(np.nan, data[col].mean(), inplace=True) \n",
    "\n",
    "data.isnull().sum() "
   ]
  },
  {
   "cell_type": "markdown",
   "metadata": {
    "id": "GELQ5uyda9Vw"
   },
   "source": [
    "## 4. Detect outliers dan handling (bisa dihapus atau diganti nilainya dengan mean/modus/median)"
   ]
  },
  {
   "cell_type": "code",
   "execution_count": 148,
   "metadata": {
    "id": "ll-868ipa9Vx"
   },
   "outputs": [
    {
     "data": {
      "text/plain": [
       "Index(['PH', 'Cahaya', 'IntensitasAir', 'Suhu', 'PPM', 'aksi'], dtype='object')"
      ]
     },
     "execution_count": 148,
     "metadata": {},
     "output_type": "execute_result"
    }
   ],
   "source": [
    "data.columns "
   ]
  },
  {
   "cell_type": "code",
   "execution_count": 149,
   "metadata": {},
   "outputs": [
    {
     "data": {
      "image/png": "[encoded data removed]",
      "text/plain": [
       "<Figure size 1368x648 with 1 Axes>"
      ]
     },
     "metadata": {
      "needs_background": "light"
     },
     "output_type": "display_data"
    }
   ],
   "source": [
    "num_cols = ['PH', 'Cahaya', 'IntensitasAir', 'Suhu', 'PPM'] \n",
    "plt.figure(figsize=(19,9)) \n",
    "data[num_cols].boxplot() \n",
    "plt.title(\"Numerical Variabels in Data dataset\", fontsize=20) \n",
    "plt.show() "
   ]
  },
  {
   "cell_type": "markdown",
   "metadata": {
    "id": "EFQ0YfYLa9Vy"
   },
   "source": [
    "## 5. Pisahkan data feature dengan label"
   ]
  },
  {
   "cell_type": "code",
   "execution_count": 150,
   "metadata": {
    "id": "Jjxt06KTa9Vy"
   },
   "outputs": [
    {
     "data": {
      "text/plain": [
       "array([[6.500e+00, 1.000e+00, 1.000e+00, 2.700e+01, 1.880e+02],\n",
       "       [5.700e+00, 1.000e+00, 1.000e+00, 2.690e+01, 7.900e+01],\n",
       "       [6.000e+00, 1.000e+00, 1.000e+00, 2.700e+01, 1.100e+01],\n",
       "       ...,\n",
       "       [3.200e+00, 1.000e+00, 2.000e+00, 2.530e+01, 7.930e+02],\n",
       "       [1.400e+00, 1.000e+00, 2.000e+00, 2.540e+01, 1.052e+03],\n",
       "       [5.000e+00, 1.000e+00, 2.000e+00, 2.530e+01, 9.770e+02]])"
      ]
     },
     "execution_count": 150,
     "metadata": {},
     "output_type": "execute_result"
    }
   ],
   "source": [
    "X = data.iloc[:,:5].values \n",
    "X "
   ]
  },
  {
   "cell_type": "code",
   "execution_count": 151,
   "metadata": {},
   "outputs": [
    {
     "data": {
      "text/plain": [
       "array([1, 1, 1, 1, 1, 1, 1, 1, 1, 1, 1, 1, 1, 1, 1, 1, 1, 3, 3, 3, 3, 3,\n",
       "       3, 3, 3, 3, 3, 3, 3, 3, 3, 3, 3, 3, 3, 3, 3, 3, 3, 3, 3, 3, 3, 3,\n",
       "       3, 3, 3, 3, 3, 3, 2, 2, 2, 2, 2, 2, 2, 2, 2, 2, 2, 2, 2, 2, 2, 2,\n",
       "       2, 1, 1, 1, 1, 1, 1, 1, 1, 1, 1, 1, 1, 1, 1, 1, 1, 1, 1, 1, 1, 1,\n",
       "       1, 1, 1, 1, 1, 1, 1, 1, 1, 1, 1, 1, 1, 1, 1, 1, 1, 3, 3, 3, 3, 3,\n",
       "       3, 3, 3, 3, 3, 3, 3, 3, 3, 3, 3, 3, 3, 3, 3, 3, 3, 3, 3, 3, 3, 3,\n",
       "       3, 3, 3, 3, 3, 3, 3, 3, 3, 3, 3, 3, 3, 3, 3, 3, 3, 3, 3, 3, 3, 3,\n",
       "       3, 3, 3, 3, 3, 3, 3, 3, 3, 3, 3, 3, 3, 3, 3, 3, 3, 3, 3, 3, 3, 3,\n",
       "       3, 3, 3, 3, 3, 2, 2, 2, 2, 2, 2, 2, 2, 2, 2, 2, 2, 2, 2, 2, 2, 2,\n",
       "       2, 2, 2, 2, 2, 2, 2, 2, 2, 2, 2, 2, 2, 2, 2, 2, 2, 2, 2, 2, 2, 1,\n",
       "       1, 1, 1, 1, 1, 1, 1, 1, 1, 1, 1, 1, 1, 1, 1, 1, 1, 1, 1, 1, 1, 1,\n",
       "       1, 1, 1, 1, 1, 1, 1, 1, 1, 1, 1, 3, 3, 3, 3, 3, 3, 3, 3, 3, 3, 3,\n",
       "       3, 3, 3, 3, 3, 3, 3, 3, 3, 3, 3, 3, 3, 3, 3, 3, 3, 3, 3, 3, 3, 3,\n",
       "       3, 3, 3, 3, 3, 3, 3, 3, 3, 3, 3, 3, 3, 3, 3, 3, 3, 3, 3, 3, 3, 3,\n",
       "       3, 3, 3, 3, 3, 3, 3, 3, 3, 3, 3, 3, 3, 2, 2, 2, 2, 2, 2, 2, 2, 2,\n",
       "       2, 2, 2, 2, 2, 2, 2, 2, 2, 2, 2, 2, 2, 2, 2, 2, 2, 2, 2, 2, 2, 2,\n",
       "       2, 2, 2, 1, 3, 1, 1, 1, 1, 1, 1, 1, 1, 1, 1, 1, 1, 1, 1, 1, 1, 1,\n",
       "       1, 1, 1, 1, 1, 1, 1, 1, 1, 1, 1, 1, 1, 1, 1, 1, 1, 1, 1, 1, 1, 3,\n",
       "       3, 3, 3, 3, 3, 3, 3, 3, 3, 3, 3, 3, 3, 3, 3, 3, 3, 3, 3, 3, 3, 3,\n",
       "       3, 3, 3, 3, 3, 3, 3, 3, 3, 3, 3, 3, 3, 3, 3, 3, 3, 3, 3, 3, 3, 3,\n",
       "       3, 3, 3, 3, 3, 3, 3, 3, 3, 3, 3, 3, 3, 3, 3, 3, 3, 3, 3, 3, 3, 3,\n",
       "       3, 3, 3, 3, 3, 3, 3, 3, 3, 3, 3, 2, 2, 2, 2, 2, 2, 2, 2, 2, 2, 2,\n",
       "       2, 2, 2, 2, 2, 2, 2, 2, 2, 2, 2, 2, 2, 2, 2, 2, 2, 2, 2, 2, 2, 2,\n",
       "       2, 2, 2, 2, 2, 2, 1, 1, 1, 1, 1, 1, 1, 1, 1, 1, 1, 1, 1, 1, 1, 1,\n",
       "       1, 1, 1, 1, 1, 1, 1, 1, 1, 1, 3, 3, 3, 3, 3, 3, 3, 3, 3, 3, 3, 3,\n",
       "       3, 3, 3, 3, 3, 3, 3, 3, 3, 3, 3, 3, 3, 3, 3, 3, 3, 3, 3, 3, 3, 3,\n",
       "       3, 3, 3, 3, 3, 3, 3, 3, 3, 3, 3, 3, 3, 3, 3, 3, 3, 3, 2, 2, 2, 2,\n",
       "       2, 2, 2, 2, 2, 2, 2, 2, 2, 2, 2, 2, 2, 2, 2, 2, 2, 2, 2, 2, 2, 2],\n",
       "      dtype=int64)"
      ]
     },
     "execution_count": 151,
     "metadata": {},
     "output_type": "execute_result"
    }
   ],
   "source": [
    "Y = data.iloc[:, 2].values \n",
    "Y "
   ]
  },
  {
   "cell_type": "markdown",
   "metadata": {
    "id": "YCGKwPFra9Vz"
   },
   "source": [
    "## 6. Check Imbalanced Dataset, jika imbalanced, gunakan smote"
   ]
  },
  {
   "cell_type": "code",
   "execution_count": 152,
   "metadata": {},
   "outputs": [
    {
     "name": "stdout",
     "output_type": "stream",
     "text": [
      "Counter({3: 308, 1: 154, 2: 154})\n"
     ]
    }
   ],
   "source": [
    "counter = Counter(Y) \n",
    "print(counter) "
   ]
  },
  {
   "cell_type": "code",
   "execution_count": 153,
   "metadata": {},
   "outputs": [],
   "source": [
    "from imblearn.over_sampling import SMOTE \n",
    "oversample = SMOTE(k_neighbors=5) \n",
    "X_smote, Y_smote = oversample.fit_resample(X, Y) "
   ]
  },
  {
   "cell_type": "code",
   "execution_count": 154,
   "metadata": {},
   "outputs": [
    {
     "name": "stdout",
     "output_type": "stream",
     "text": [
      "Counter({1: 308, 3: 308, 2: 308})\n"
     ]
    }
   ],
   "source": [
    "counter = Counter(Y_smote) \n",
    "print(counter) "
   ]
  },
  {
   "cell_type": "markdown",
   "metadata": {
    "id": "2gLiWKVza9V1"
   },
   "source": [
    "## 7. Visualisasikan Data sehingga kita bisa mengetahui sebuah informasi"
   ]
  },
  {
   "cell_type": "code",
   "execution_count": 155,
   "metadata": {},
   "outputs": [
    {
     "data": {
      "image/png": "[encoded data removed]",
      "text/plain": [
       "<Figure size 432x288 with 1 Axes>"
      ]
     },
     "metadata": {},
     "output_type": "display_data"
    }
   ],
   "source": [
    "import matplotlib.pyplot as plt \n",
    "from matplotlib import style\n",
    "\n",
    "Tinggi = (data['IntensitasAir'] == 1).sum() \n",
    "Rendah_sekali = (data['IntensitasAir'] == 2).sum() \n",
    "p = [Tinggi, Rendah_sekali] \n",
    "plt.pie(p, \n",
    "         autopct='%1.1f%%', \n",
    "        labels = ['Tinggi', 'Rendah_sekali'],\n",
    "        colors = ['blue', 'pink'],\n",
    "        explode = (0.15, 0), \n",
    "        startangle = 0) \n",
    "plt.axis('equal') \n",
    "plt.show() "
   ]
  },
  {
   "cell_type": "markdown",
   "metadata": {
    "id": "byMOPkmra9V2"
   },
   "source": [
    "## 8. Lakukan Normalization menggunakan MinMaxScaler atau Standardization menggunakan StandarScaler"
   ]
  },
  {
   "cell_type": "markdown",
   "metadata": {},
   "source": [
    "# Normalization"
   ]
  },
  {
   "cell_type": "code",
   "execution_count": 156,
   "metadata": {},
   "outputs": [
    {
     "name": "stdout",
     "output_type": "stream",
     "text": [
      "[[0.46428571 1.         0.         0.96007046 0.08705773]\n",
      " [0.40714286 1.         0.         0.95977686 0.03631285]\n",
      " [0.42857143 1.         0.         0.96007046 0.00465549]\n",
      " ...\n",
      " [0.22857143 1.         0.5        0.95507927 0.36871508]\n",
      " [0.1        1.         0.5        0.95537287 0.48929236]\n",
      " [0.35714286 1.         0.5        0.95507927 0.45437616]]\n"
     ]
    }
   ],
   "source": [
    "from sklearn.preprocessing import MinMaxScaler \n",
    "\n",
    "scaler =  MinMaxScaler()\n",
    "# transform data\n",
    "X_scaled = scaler.fit_transform(X)\n",
    "print(X_scaled) "
   ]
  },
  {
   "cell_type": "markdown",
   "metadata": {},
   "source": [
    "# Standardization"
   ]
  },
  {
   "cell_type": "code",
   "execution_count": 157,
   "metadata": {},
   "outputs": [],
   "source": [
    "from sklearn.preprocessing import StandardScaler "
   ]
  },
  {
   "cell_type": "code",
   "execution_count": 158,
   "metadata": {},
   "outputs": [],
   "source": [
    "X_train, X_test, y_train, y_test = train_test_split(X, y, test_size = 0.2, random_state = 0, stratify = y) "
   ]
  },
  {
   "cell_type": "code",
   "execution_count": 159,
   "metadata": {},
   "outputs": [],
   "source": [
    "scaler = StandardScaler() \n",
    "X_train = scaler.fit_transform(X_train) \n",
    "X_test = scaler.transform(X_test) "
   ]
  },
  {
   "cell_type": "code",
   "execution_count": 160,
   "metadata": {},
   "outputs": [
    {
     "data": {
      "text/plain": [
       "array([[ 2.68122077e-02,  1.02100007e+00, -2.85570634e-01,\n",
       "        -1.90247920e-01, -2.66525017e-01],\n",
       "       [-1.75108605e+00,  1.02100007e+00, -1.48643176e+00,\n",
       "        -4.52585617e-02, -1.06990299e+00],\n",
       "       [ 2.21499468e+00,  2.10855948e-02, -1.48643176e+00,\n",
       "         8.74416007e-04, -1.45889034e+00],\n",
       "       ...,\n",
       "       [-3.49281655e-01, -1.02743583e+00,  9.15290494e-01,\n",
       "        -2.17145773e+01,  1.56092171e+00],\n",
       "       [-2.46710601e-01, -1.02743583e+00,  9.15290494e-01,\n",
       "         2.44720156e-01,  1.74668302e+00],\n",
       "       [ 1.29383261e-01,  1.02100007e+00,  9.15290494e-01,\n",
       "         8.74416007e-04, -7.31722142e-01]])"
      ]
     },
     "execution_count": 160,
     "metadata": {},
     "output_type": "execute_result"
    }
   ],
   "source": [
    "X_train"
   ]
  },
  {
   "cell_type": "markdown",
   "metadata": {
    "id": "FJpwBxZfa9V3"
   },
   "source": [
    "## 9. Buat model ANN"
   ]
  },
  {
   "cell_type": "code",
   "execution_count": 161,
   "metadata": {},
   "outputs": [],
   "source": [
    "model = Sequential() \n",
    "model.add(Dense(X.shape[1], activation='relu', input_dim = X.shape[1])) \n",
    "model.add(Dense(128, activation='relu')) \n",
    "model.add(Dense(1, activation = 'sigmoid')) "
   ]
  },
  {
   "cell_type": "code",
   "execution_count": 162,
   "metadata": {},
   "outputs": [
    {
     "data": {
      "text/plain": [
       "5"
      ]
     },
     "execution_count": 162,
     "metadata": {},
     "output_type": "execute_result"
    }
   ],
   "source": [
    "X.shape[1] "
   ]
  },
  {
   "cell_type": "code",
   "execution_count": 163,
   "metadata": {},
   "outputs": [],
   "source": [
    "model.compile(optimizer='adam', loss = 'binary_crossentropy', metrics=['accuracy'])   "
   ]
  },
  {
   "cell_type": "code",
   "execution_count": 164,
   "metadata": {},
   "outputs": [
    {
     "name": "stdout",
     "output_type": "stream",
     "text": [
      "Epoch 1/5\n",
      "16/16 [==============================] - 0s 6ms/step - loss: 0.3125 - accuracy: 0.0650\n",
      "Epoch 2/5\n",
      "16/16 [==============================] - 0s 3ms/step - loss: -0.4056 - accuracy: 0.0630\n",
      "Epoch 3/5\n",
      "16/16 [==============================] - 0s 2ms/step - loss: -1.2430 - accuracy: 0.0630\n",
      "Epoch 4/5\n",
      "16/16 [==============================] - 0s 3ms/step - loss: -2.3579 - accuracy: 0.0630\n",
      "Epoch 5/5\n",
      "16/16 [==============================] - 0s 3ms/step - loss: -3.7903 - accuracy: 0.0630\n"
     ]
    },
    {
     "data": {
      "text/plain": [
       "<tensorflow.python.keras.callbacks.History at 0x250e5b01640>"
      ]
     },
     "execution_count": 164,
     "metadata": {},
     "output_type": "execute_result"
    }
   ],
   "source": [
    "model.fit(X_train, y_train, epochs = 5)"
   ]
  },
  {
   "cell_type": "code",
   "execution_count": 166,
   "metadata": {},
   "outputs": [
    {
     "name": "stdout",
     "output_type": "stream",
     "text": [
      "4/4 [==============================] - 0s 6ms/step - loss: -4.6750 - accuracy: 0.0645\n"
     ]
    },
    {
     "data": {
      "text/plain": [
       "[-4.675013065338135, 0.06451612710952759]"
      ]
     },
     "execution_count": 166,
     "metadata": {},
     "output_type": "execute_result"
    }
   ],
   "source": [
    "model.evaluate(X_test, y_test) "
   ]
  },
  {
   "cell_type": "markdown",
   "metadata": {
    "id": "ZVuY2QdwW6dO"
   },
   "source": [
    "## 10. Build Model KNN"
   ]
  },
  {
   "cell_type": "code",
   "execution_count": 167,
   "metadata": {
    "id": "Dks_OpdeW9fY"
   },
   "outputs": [],
   "source": [
    "import numpy as np \n",
    "import matplotlib.pyplot as plt \n",
    "import pandas as pd \n",
    "import numpy as numpy \n",
    "from sklearn import preprocessing \n",
    "%matplotlib inline"
   ]
  },
  {
   "cell_type": "code",
   "execution_count": 168,
   "metadata": {},
   "outputs": [],
   "source": [
    "from sklearn.model_selection import train_test_split\n",
    "\n",
    "X_train,X_test,Y_train,Y_test = train_test_split(X_scaled, Y, test_size = 0.2, random_state = 42)"
   ]
  },
  {
   "cell_type": "code",
   "execution_count": 169,
   "metadata": {},
   "outputs": [
    {
     "data": {
      "text/plain": [
       "KNeighborsClassifier(n_neighbors=3)"
      ]
     },
     "execution_count": 169,
     "metadata": {},
     "output_type": "execute_result"
    }
   ],
   "source": [
    "from sklearn.neighbors import KNeighborsClassifier \n",
    "k = 3 \n",
    "#Train Model and Predict  \n",
    "knn = KNeighborsClassifier(n_neighbors = k).fit(X_train,Y_train) \n",
    "knn "
   ]
  },
  {
   "cell_type": "code",
   "execution_count": 170,
   "metadata": {},
   "outputs": [
    {
     "name": "stdout",
     "output_type": "stream",
     "text": [
      "Test set Accuracy:  1.0\n"
     ]
    }
   ],
   "source": [
    "from sklearn import metrics \n",
    "\n",
    "y_predict = knn.predict(X_test) \n",
    "print(\"Test set Accuracy: \", metrics.accuracy_score(Y_test, y_predict)) "
   ]
  },
  {
   "cell_type": "code",
   "execution_count": 171,
   "metadata": {},
   "outputs": [
    {
     "data": {
      "text/plain": [
       "array([1., 1., 1., 1., 1., 1., 1., 1., 1., 1.])"
      ]
     },
     "execution_count": 171,
     "metadata": {},
     "output_type": "execute_result"
    }
   ],
   "source": [
    "Ks = 10\n",
    "mean_acc = np.zeros((Ks))\n",
    "\n",
    "for n in range(1,Ks+1): \n",
    "    \n",
    "    #Train Model and Predict\n",
    "    neigh = KNeighborsClassifier(n_neighbors = n).fit(X_train,Y_train) \n",
    "    y_predict=neigh.predict(X_test) \n",
    "    mean_acc[n-1] = metrics.accuracy_score(Y_test, y_predict) \n",
    "\n",
    "mean_acc "
   ]
  },
  {
   "cell_type": "code",
   "execution_count": 172,
   "metadata": {},
   "outputs": [
    {
     "data": {
      "image/png": "[encoded data removed]",
      "text/plain": [
       "<Figure size 432x288 with 1 Axes>"
      ]
     },
     "metadata": {
      "needs_background": "light"
     },
     "output_type": "display_data"
    }
   ],
   "source": [
    "plt.plot(range(1,Ks+1),mean_acc,'g') \n",
    "plt.legend(('Accuracy ', '+/- 3xstd')) \n",
    "plt.ylabel('Accuracy ') \n",
    "plt.xlabel('Number of Nabors (K)') \n",
    "plt.tight_layout() \n",
    "plt.show() "
   ]
  },
  {
   "cell_type": "code",
   "execution_count": 173,
   "metadata": {},
   "outputs": [
    {
     "name": "stdout",
     "output_type": "stream",
     "text": [
      "The best accuracy was with 1.0 with k= 1\n"
     ]
    }
   ],
   "source": [
    "print(\"The best accuracy was with\", mean_acc.max(), \"with k=\", mean_acc.argmax()+1) "
   ]
  }
 ],
 "metadata": {
  "accelerator": "GPU",
  "colab": {
   "collapsed_sections": [],
   "name": "KM_07_01_Student.ipynb",
   "provenance": []
  },
  "kernelspec": {
   "display_name": "Python 3",
   "language": "python",
   "name": "python3"
  },
  "language_info": {
   "codemirror_mode": {
    "name": "ipython",
    "version": 3
   },
   "file_extension": ".py",
   "mimetype": "text/x-python",
   "name": "python",
   "nbconvert_exporter": "python",
   "pygments_lexer": "ipython3",
   "version": "3.8.8"
  }
 },
 "nbformat": 4,
 "nbformat_minor": 1
}
